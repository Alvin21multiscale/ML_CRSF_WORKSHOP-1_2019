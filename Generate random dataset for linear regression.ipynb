{
 "cells": [
  {
   "cell_type": "markdown",
   "metadata": {},
   "source": [
    "# To generate random dataset for linear regression"
   ]
  },
  {
   "cell_type": "code",
   "execution_count": 21,
   "metadata": {},
   "outputs": [
    {
     "name": "stdout",
     "output_type": "stream",
     "text": [
      "[0.98469111] 0.5926613197824109\n"
     ]
    }
   ],
   "source": [
    "import random \n",
    "import pandas as pd\n",
    "import numpy as np\n",
    "from sklearn.linear_model import LinearRegression\n",
    "\n",
    "start_number = 1\n",
    "end_number = 10\n",
    "number_data_points = 100\n",
    "\n",
    "x, y = list(),list()\n",
    "\n",
    "for count in range(number_data_points):\n",
    "    dummy_x = random.randint(start_number,end_number+1)\n",
    "    x.append(dummy_x)\n",
    "    dummy_y =  dummy_x + random.random()\n",
    "    y.append(dummy_y)\n",
    "    \n",
    "dummy_x = np.array(x).reshape(len(x),1)\n",
    "linear_model = LinearRegression()\n",
    "fitted_model = linear_model.fit(dummy_x,y)\n",
    "pred_y = fitted_model.predict(dummy_x)\n",
    "m = fitted_model.coef_\n",
    "c = fitted_model.intercept_\n",
    "print(m,c)\n",
    "    \n",
    "random_numbers_table = pd.DataFrame(columns=['x','Measured y','Predicted y'])\n",
    "random_numbers_table['x'] = x\n",
    "random_numbers_table['Measured y'] = y\n",
    "random_numbers_table['Predicted y'] = pred_y\n",
    "random_numbers_table.to_csv('Data/linear_regression.csv')"
   ]
  }
 ],
 "metadata": {
  "kernelspec": {
   "display_name": "Python 3",
   "language": "python",
   "name": "python3"
  },
  "language_info": {
   "codemirror_mode": {
    "name": "ipython",
    "version": 3
   },
   "file_extension": ".py",
   "mimetype": "text/x-python",
   "name": "python",
   "nbconvert_exporter": "python",
   "pygments_lexer": "ipython3",
   "version": "3.7.1"
  }
 },
 "nbformat": 4,
 "nbformat_minor": 2
}
