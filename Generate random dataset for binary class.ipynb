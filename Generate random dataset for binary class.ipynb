{
 "cells": [
  {
   "cell_type": "markdown",
   "metadata": {},
   "source": [
    "# To generate random dataset for binary classification"
   ]
  },
  {
   "cell_type": "code",
   "execution_count": 3,
   "metadata": {},
   "outputs": [],
   "source": [
    "import random \n",
    "import pandas as pd\n",
    "\n",
    "start_number = 1\n",
    "end_number = 10\n",
    "number_data_points = 100\n",
    "\n",
    "class_1_x,class_1_y,class_2_x,class_2_y = list(),list(),list(),list()\n",
    "\n",
    "for count in range(number_data_points+1):\n",
    "    class_1_x.append(random.randint(start_number,end_number+1))\n",
    "    class_1_y.append(random.randint(start_number,end_number+1))\n",
    "    class_2_x.append(random.randint(start_number,end_number+1))\n",
    "    class_2_y.append(random.randint(start_number,end_number+1))\n",
    "\n",
    "random_numbers_table = pd.DataFrame(columns=['Class 1_x','Class 1_y','Class 2_x','Class 2_y'])\n",
    "random_numbers_table['Class 1_x'] = class_1_x\n",
    "random_numbers_table['Class 1_y'] = class_1_y\n",
    "random_numbers_table['Class 2_x'] = class_2_x\n",
    "random_numbers_table['Class 2_y'] = class_2_y\n",
    "random_numbers_table.to_csv('Data/binary_class.csv')"
   ]
  }
 ],
 "metadata": {
  "kernelspec": {
   "display_name": "Python 3",
   "language": "python",
   "name": "python3"
  },
  "language_info": {
   "codemirror_mode": {
    "name": "ipython",
    "version": 3
   },
   "file_extension": ".py",
   "mimetype": "text/x-python",
   "name": "python",
   "nbconvert_exporter": "python",
   "pygments_lexer": "ipython3",
   "version": "3.7.1"
  }
 },
 "nbformat": 4,
 "nbformat_minor": 2
}
